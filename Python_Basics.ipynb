{
 "cells": [
  {
   "cell_type": "markdown",
   "metadata": {},
   "source": [
    "__1.Write a python script that takes hours as input and converts that into seconds<br>\n",
    "example:<br> \n",
    "Input Hrs: 10<br>\n",
    "Output seconds: 36000__"
   ]
  },
  {
   "cell_type": "markdown",
   "metadata": {},
   "source": [
    "__2.Convert a string <br> 1.word <br> 2.Sentence <br>  both into a  saperate lists <br>\n",
    "example :<br>\n",
    "Word--> input: \"String\" --> output: ['S','T','R','I','N','G'] <br>\n",
    "Sentence --> input: \"I am very good Programmer\" --> Output: ['I','am','very','good','Programmer']__"
   ]
  },
  {
   "cell_type": "markdown",
   "metadata": {},
   "source": [
    "__3. Find out a string is Singular or Plural__"
   ]
  },
  {
   "cell_type": "markdown",
   "metadata": {},
   "source": [
    "__4.Take a dictionary key as a string and Value as an Integer and Sum all the values and output the total sum of all values__"
   ]
  },
  {
   "cell_type": "markdown",
   "metadata": {},
   "source": [
    "__5.Given a Python list, find value 20 in the list, and if it is present, replace it with 200. Only update the first occurrence of a value<br>\n",
    "list1 = [5, 10, 15, 20, 25, 50, 20]__"
   ]
  },
  {
   "cell_type": "markdown",
   "metadata": {},
   "source": [
    "__6. Take three values as input of the script <br> Example:(3,8,\"Power Rangers\") <br>\n",
    "    Now write a script to swap the alphabets in the numbers passed along with the string.<br>\n",
    "    input of the script: (3,8,\"Power Rangers\")<br>\n",
    "    output : \"Pownr Raegers\", <br>\n",
    "    If you observe alphabets in 3rd and 8th index values has been swapped means inter-changed__"
   ]
  },
  {
   "cell_type": "markdown",
   "metadata": {},
   "source": [
    "__7. Write a python script and perform the following conditional actions:<br>\n",
    "Take any number as Input to the script and,<br>\n",
    "&nbsp;    If number is odd, print \"Odd Number\",<br>\n",
    "&nbsp;    If number is even and in the range of 2 to 9, print \"Units Even\",<br>\n",
    "&nbsp;    If number is even and in the range of 10 to 21, print \"Tens Even\",<br>\n",
    "&nbsp;    If number is even and greater than 22, print \"Even Number\"__"
   ]
  },
  {
   "cell_type": "markdown",
   "metadata": {},
   "source": [
    "__8. Take a list as input to the script and find out smallest number of the list__"
   ]
  }
 ],
 "metadata": {
  "kernelspec": {
   "display_name": "Python 3 (ipykernel)",
   "language": "python",
   "name": "python3"
  },
  "language_info": {
   "codemirror_mode": {
    "name": "ipython",
    "version": 3
   },
   "file_extension": ".py",
   "mimetype": "text/x-python",
   "name": "python",
   "nbconvert_exporter": "python",
   "pygments_lexer": "ipython3",
   "version": "3.12.4"
  }
 },
 "nbformat": 4,
 "nbformat_minor": 4
}
